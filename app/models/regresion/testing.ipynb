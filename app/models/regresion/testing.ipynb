{
 "cells": [
  {
   "cell_type": "code",
   "execution_count": 3,
   "id": "013d471d",
   "metadata": {},
   "outputs": [],
   "source": [
    "import joblib\n",
    "import logging"
   ]
  },
  {
   "cell_type": "code",
   "execution_count": 4,
   "id": "22222e89",
   "metadata": {},
   "outputs": [],
   "source": [
    "# Define logger class\n",
    "logger = logging.getLogger()\n",
    "logger.setLevel(logging.INFO)"
   ]
  },
  {
   "cell_type": "code",
   "execution_count": 5,
   "id": "012836af",
   "metadata": {},
   "outputs": [],
   "source": [
    "# Load model into memory\n",
    "\n",
    "logger.info('Loading model from file...')\n",
    "model = joblib.load('../../trained/regresion-model.joblib')\n",
    "logger.info('Model Loaded from file...')"
   ]
  },
  {
   "cell_type": "code",
   "execution_count": null,
   "id": "d86f3d07",
   "metadata": {},
   "outputs": [],
   "source": [
    " predictions = model.predict(test_features)"
   ]
  }
 ],
 "metadata": {
  "kernelspec": {
   "display_name": "Python 3 (ipykernel)",
   "language": "python",
   "name": "python3"
  },
  "language_info": {
   "codemirror_mode": {
    "name": "ipython",
    "version": 3
   },
   "file_extension": ".py",
   "mimetype": "text/x-python",
   "name": "python",
   "nbconvert_exporter": "python",
   "pygments_lexer": "ipython3",
   "version": "3.10.9"
  }
 },
 "nbformat": 4,
 "nbformat_minor": 5
}
