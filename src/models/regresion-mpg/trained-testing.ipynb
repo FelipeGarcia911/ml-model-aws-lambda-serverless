{
 "cells": [
  {
   "cell_type": "code",
   "execution_count": 1,
   "id": "682a2305",
   "metadata": {},
   "outputs": [
    {
     "name": "stdout",
     "output_type": "stream",
     "text": [
      "2.10.0\n"
     ]
    }
   ],
   "source": [
    "# Import basic libraries\n",
    "\n",
    "import matplotlib.pyplot as plt\n",
    "import pandas as pd\n",
    "import seaborn as sns\n",
    "\n",
    "import tensorflow as tf\n",
    "\n",
    "from tensorflow import keras\n",
    "from tensorflow.keras import layers\n",
    "\n",
    "import joblib\n",
    "\n",
    "print(tf.__version__)"
   ]
  },
  {
   "cell_type": "code",
   "execution_count": 2,
   "id": "22ae7a1e",
   "metadata": {},
   "outputs": [],
   "source": [
    "# Define some helper functions\n",
    "\n",
    "model_path = \"../../app/routes/regresion_mpg/model.keras\"\n",
    "\n",
    "def plot_predictions(labels, predictions):\n",
    "    plt.scatter(labels, predictions)\n",
    "    plt.xlabel('True Values [MPG]')\n",
    "    plt.ylabel('Predictions [MPG]')\n",
    "    plt.axis('equal')\n",
    "    plt.axis('square')\n",
    "    plt.xlim([0,plt.xlim()[1]])\n",
    "    plt.ylim([0,plt.ylim()[1]])\n",
    "    _ = plt.plot([-100, 100], [-100, 100])\n",
    "\n",
    "def norm(x, stats):\n",
    "  return (x - stats['mean']) / stats['std']\n",
    "\n",
    "def build_model(train_dataset):\n",
    "  model = keras.Sequential([\n",
    "    layers.Dense(64, activation='relu', input_shape=[len(train_dataset.keys())]),\n",
    "    layers.Dense(64, activation='relu'),\n",
    "    layers.Dense(1)\n",
    "  ])\n",
    "\n",
    "  optimizer = tf.keras.optimizers.RMSprop(0.001)\n",
    "\n",
    "  model.compile(loss='mse',\n",
    "                optimizer=optimizer,\n",
    "                metrics=['mae', 'mse'])\n",
    "  return model"
   ]
  },
  {
   "cell_type": "code",
   "execution_count": 3,
   "id": "7d0b13a6",
   "metadata": {},
   "outputs": [],
   "source": [
    "# Download Dataset\n",
    "\n",
    "url = \"http://archive.ics.uci.edu/ml/machine-learning-databases/auto-mpg/auto-mpg.data\"\n",
    "\n",
    "column_names = ['MPG','Cylinders','Displacement','Horsepower','Weight', 'Acceleration', 'Model Year', 'Origin']\n",
    "raw_dataset = pd.read_csv(url, names=column_names, na_values = \"?\", comment='\\t', sep=\" \", skipinitialspace=True)\n",
    "\n",
    "dataset = raw_dataset.copy()"
   ]
  },
  {
   "cell_type": "code",
   "execution_count": 4,
   "id": "41c64705",
   "metadata": {},
   "outputs": [],
   "source": [
    "# Delete all null/undefined values\n",
    "\n",
    "dataset = dataset.dropna()"
   ]
  },
  {
   "cell_type": "code",
   "execution_count": 5,
   "id": "65f6ca46",
   "metadata": {},
   "outputs": [],
   "source": [
    "# Transform category origin data into numerical data\n",
    "\n",
    "origin = dataset.pop('Origin')\n",
    "dataset['USA'] = (origin == 1)*1.0\n",
    "dataset['Europe'] = (origin == 2)*1.0\n",
    "dataset['Japan'] = (origin == 3)*1.0"
   ]
  },
  {
   "cell_type": "code",
   "execution_count": 6,
   "id": "10c7a464",
   "metadata": {},
   "outputs": [],
   "source": [
    "# Get Train and Test Datasets\n",
    "\n",
    "train_dataset = dataset.sample(frac=0.8,random_state=0)\n",
    "test_dataset = dataset.drop(train_dataset.index)"
   ]
  },
  {
   "cell_type": "code",
   "execution_count": 7,
   "id": "5920363b",
   "metadata": {
    "scrolled": true
   },
   "outputs": [],
   "source": [
    "# Describe \n",
    "\n",
    "train_stats = train_dataset.describe()\n",
    "train_stats.pop(\"MPG\")\n",
    "train_stats = train_stats.transpose()"
   ]
  },
  {
   "cell_type": "code",
   "execution_count": 8,
   "id": "fdd82a3a",
   "metadata": {},
   "outputs": [],
   "source": [
    "# Get Labels\n",
    "\n",
    "train_labels = train_dataset.pop('MPG')\n",
    "test_labels = test_dataset.pop('MPG')"
   ]
  },
  {
   "cell_type": "code",
   "execution_count": 9,
   "id": "1f4fd0f3",
   "metadata": {},
   "outputs": [],
   "source": [
    "# Normalize Train and Test Data\n",
    "normed_train_data = norm(train_dataset, train_stats)\n",
    "normed_test_data = norm(test_dataset, train_stats)"
   ]
  },
  {
   "cell_type": "code",
   "execution_count": 10,
   "id": "9b49bb14",
   "metadata": {},
   "outputs": [],
   "source": [
    "# Import Model\n",
    "\n",
    "model = keras.models.load_model(model_path)"
   ]
  },
  {
   "cell_type": "code",
   "execution_count": 11,
   "id": "e61496e9",
   "metadata": {},
   "outputs": [
    {
     "name": "stdout",
     "output_type": "stream",
     "text": [
      "3/3 [==============================] - 0s 625us/step\n"
     ]
    },
    {
     "name": "stderr",
     "output_type": "stream",
     "text": [
      "2023-07-29 16:04:56.602170: W tensorflow/core/platform/profile_utils/cpu_utils.cc:128] Failed to get CPU frequency: 0 Hz\n"
     ]
    },
    {
     "data": {
      "image/png": "[encoded data removed]",
      "text/plain": [
       "<Figure size 640x480 with 1 Axes>"
      ]
     },
     "metadata": {},
     "output_type": "display_data"
    }
   ],
   "source": [
    "# Test Imported Model\n",
    "\n",
    "test_predictions = model.predict(normed_test_data).flatten()\n",
    "plot_predictions(test_labels, test_predictions)"
   ]
  },
  {
   "cell_type": "code",
   "execution_count": 12,
   "id": "24340de8",
   "metadata": {},
   "outputs": [
    {
     "name": "stdout",
     "output_type": "stream",
     "text": [
      "3/3 - 0s - loss: 5.7661 - mae: 1.8215 - mse: 5.7661 - 80ms/epoch - 27ms/step\n",
      "Testing set Mean Abs Error:  1.82 MPG\n"
     ]
    }
   ],
   "source": [
    "# Eval our model results\n",
    "\n",
    "loss, mae, mse = model.evaluate(normed_test_data, test_labels, verbose=2)\n",
    "\n",
    "print(\"Testing set Mean Abs Error: {:5.2f} MPG\".format(mae))"
   ]
  }
 ],
 "metadata": {
  "kernelspec": {
   "display_name": "Python 3 (ipykernel)",
   "language": "python",
   "name": "python3"
  },
  "language_info": {
   "codemirror_mode": {
    "name": "ipython",
    "version": 3
   },
   "file_extension": ".py",
   "mimetype": "text/x-python",
   "name": "python",
   "nbconvert_exporter": "python",
   "pygments_lexer": "ipython3",
   "version": "3.10.9"
  }
 },
 "nbformat": 4,
 "nbformat_minor": 5
}
